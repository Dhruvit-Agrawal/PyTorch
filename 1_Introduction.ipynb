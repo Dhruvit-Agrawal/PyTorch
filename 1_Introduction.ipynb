{
  "nbformat": 4,
  "nbformat_minor": 0,
  "metadata": {
    "colab": {
      "provenance": [],
      "authorship_tag": "ABX9TyNOxIn6nQu0uexA9BHtN2uQ",
      "include_colab_link": true
    },
    "kernelspec": {
      "name": "python3",
      "display_name": "Python 3"
    },
    "language_info": {
      "name": "python"
    }
  },
  "cells": [
    {
      "cell_type": "markdown",
      "metadata": {
        "id": "view-in-github",
        "colab_type": "text"
      },
      "source": [
        "<a href=\"https://colab.research.google.com/github/Dhruvit-Agrawal/PyTorch/blob/main/1_Introduction.ipynb\" target=\"_parent\"><img src=\"https://colab.research.google.com/assets/colab-badge.svg\" alt=\"Open In Colab\"/></a>"
      ]
    },
    {
      "cell_type": "code",
      "execution_count": null,
      "metadata": {
        "id": "Vc0W1p09YYbJ"
      },
      "outputs": [],
      "source": [
        "import torch"
      ]
    },
    {
      "cell_type": "code",
      "source": [
        "print(torch.__version__)"
      ],
      "metadata": {
        "colab": {
          "base_uri": "https://localhost:8080/"
        },
        "id": "Z-yy_YAvYc8t",
        "outputId": "027b1b64-b103-4a80-c47a-6dd499f78efd"
      },
      "execution_count": null,
      "outputs": [
        {
          "output_type": "stream",
          "name": "stdout",
          "text": [
            "2.5.1+cu121\n"
          ]
        }
      ]
    },
    {
      "cell_type": "code",
      "source": [
        "if torch.cuda.is_available():\n",
        "    print(\"cuda is available\")\n",
        "else:\n",
        "    print(\"cuda is not available\")"
      ],
      "metadata": {
        "colab": {
          "base_uri": "https://localhost:8080/"
        },
        "id": "Ttu0iyc9ZTDU",
        "outputId": "0ceb80d8-9c43-45b9-a677-7bb2a594e84a"
      },
      "execution_count": null,
      "outputs": [
        {
          "output_type": "stream",
          "name": "stdout",
          "text": [
            "cuda is available\n"
          ]
        }
      ]
    },
    {
      "cell_type": "markdown",
      "source": [
        "#Tensors"
      ],
      "metadata": {
        "id": "0O8g0NnSgP7q"
      }
    },
    {
      "cell_type": "code",
      "source": [
        "#using empty function\n",
        "x=torch.empty(5,3)\n",
        "print(x)"
      ],
      "metadata": {
        "colab": {
          "base_uri": "https://localhost:8080/"
        },
        "id": "YF0_PhXFZVP2",
        "outputId": "606e6759-0348-4a13-dd65-06227d761053"
      },
      "execution_count": null,
      "outputs": [
        {
          "output_type": "stream",
          "name": "stdout",
          "text": [
            "tensor([[7.0678e+28, 4.8418e+30, 3.1365e-18],\n",
            "        [3.0186e+32, 1.4605e-19, 1.0899e+27],\n",
            "        [6.7404e+22, 1.5766e-19, 1.1434e+27],\n",
            "        [2.9907e+21, 1.7036e+19, 1.8019e+31],\n",
            "        [1.8062e+28, 1.5766e-19, 1.1434e+27]])\n"
          ]
        }
      ]
    },
    {
      "cell_type": "code",
      "source": [
        "#zeroes\n",
        "x=torch.zeros(5,3)\n",
        "print(x)\n",
        "\n",
        "#ones\n",
        "x=torch.ones(5,3)\n",
        "print(x)"
      ],
      "metadata": {
        "colab": {
          "base_uri": "https://localhost:8080/"
        },
        "id": "1tHdy4nwaTLz",
        "outputId": "5be278b9-a939-4b43-be20-63bcd64bd2f4"
      },
      "execution_count": null,
      "outputs": [
        {
          "output_type": "stream",
          "name": "stdout",
          "text": [
            "tensor([[0., 0., 0.],\n",
            "        [0., 0., 0.],\n",
            "        [0., 0., 0.],\n",
            "        [0., 0., 0.],\n",
            "        [0., 0., 0.]])\n",
            "tensor([[1., 1., 1.],\n",
            "        [1., 1., 1.],\n",
            "        [1., 1., 1.],\n",
            "        [1., 1., 1.],\n",
            "        [1., 1., 1.]])\n"
          ]
        }
      ]
    },
    {
      "cell_type": "code",
      "source": [
        "#random between 5,10\n",
        "x=torch.randint(5,10,(5,3))\n",
        "print(x)"
      ],
      "metadata": {
        "colab": {
          "base_uri": "https://localhost:8080/"
        },
        "id": "gNRh-juZabTO",
        "outputId": "38d0ab75-1660-4301-bea3-9927ccf624f7"
      },
      "execution_count": null,
      "outputs": [
        {
          "output_type": "stream",
          "name": "stdout",
          "text": [
            "tensor([[7, 7, 9],\n",
            "        [7, 6, 8],\n",
            "        [6, 6, 7],\n",
            "        [7, 7, 9],\n",
            "        [9, 8, 7]])\n"
          ]
        }
      ]
    },
    {
      "cell_type": "code",
      "source": [
        "#custom tensor\n",
        "x=torch.tensor([[5.5,0,5],(2,3,3),[8,5,4]])\n",
        "print(x)"
      ],
      "metadata": {
        "colab": {
          "base_uri": "https://localhost:8080/"
        },
        "id": "4ynjXnmXcVOc",
        "outputId": "216ec242-a957-4359-eb65-b8104db39443"
      },
      "execution_count": null,
      "outputs": [
        {
          "output_type": "stream",
          "name": "stdout",
          "text": [
            "tensor([[5.5000, 0.0000, 5.0000],\n",
            "        [2.0000, 3.0000, 3.0000],\n",
            "        [8.0000, 5.0000, 4.0000]])\n"
          ]
        }
      ]
    },
    {
      "cell_type": "code",
      "source": [
        "#linspace\n",
        "x=torch.linspace(1,10,5)\n",
        "print(x)\n",
        "\n",
        "#identity\n",
        "x=torch.eye(5)\n",
        "print(x)\n",
        "\n",
        "#full\n",
        "x=torch.full((5,3),5)\n",
        "print(x)"
      ],
      "metadata": {
        "colab": {
          "base_uri": "https://localhost:8080/"
        },
        "id": "lUGNcUo1c-sH",
        "outputId": "65674d37-6892-4ecb-c57a-fa38cb2d204a"
      },
      "execution_count": null,
      "outputs": [
        {
          "output_type": "stream",
          "name": "stdout",
          "text": [
            "tensor([ 1.0000,  3.2500,  5.5000,  7.7500, 10.0000])\n",
            "tensor([[1., 0., 0., 0., 0.],\n",
            "        [0., 1., 0., 0., 0.],\n",
            "        [0., 0., 1., 0., 0.],\n",
            "        [0., 0., 0., 1., 0.],\n",
            "        [0., 0., 0., 0., 1.]])\n",
            "tensor([[5, 5, 5],\n",
            "        [5, 5, 5],\n",
            "        [5, 5, 5],\n",
            "        [5, 5, 5],\n",
            "        [5, 5, 5]])\n"
          ]
        }
      ]
    },
    {
      "cell_type": "code",
      "source": [
        "#_like functions\n",
        "x=torch.empty(5,3)\n",
        "y=torch.zeros_like(x)\n",
        "print(y)\n",
        "\n",
        "y=torch.ones_like(x)\n",
        "print(y)\n",
        "\n",
        "y=torch.rand_like(x)\n",
        "print(y)"
      ],
      "metadata": {
        "colab": {
          "base_uri": "https://localhost:8080/"
        },
        "id": "9YyWpzJgfAJb",
        "outputId": "02a38632-8f75-420d-be24-67088886b149"
      },
      "execution_count": null,
      "outputs": [
        {
          "output_type": "stream",
          "name": "stdout",
          "text": [
            "tensor([[0., 0., 0.],\n",
            "        [0., 0., 0.],\n",
            "        [0., 0., 0.],\n",
            "        [0., 0., 0.],\n",
            "        [0., 0., 0.]])\n",
            "tensor([[1., 1., 1.],\n",
            "        [1., 1., 1.],\n",
            "        [1., 1., 1.],\n",
            "        [1., 1., 1.],\n",
            "        [1., 1., 1.]])\n",
            "tensor([[0.6501, 0.6407, 0.0159],\n",
            "        [0.1986, 0.7220, 0.1050],\n",
            "        [0.9047, 0.1259, 0.0296],\n",
            "        [0.7299, 0.5885, 0.0275],\n",
            "        [0.5182, 0.4328, 0.9609]])\n"
          ]
        }
      ]
    },
    {
      "cell_type": "code",
      "source": [
        "#data types\n",
        "x=torch.empty(5,3,dtype=torch.float)\n",
        "print(x)\n",
        "\n",
        "x=torch.empty(5,3,dtype=torch.double)\n",
        "print(x)\n",
        "\n",
        "print(x.dtype)\n",
        "print(f\"running to() function\")\n",
        "x=x.to(torch.int)\n",
        "print(x.dtype)"
      ],
      "metadata": {
        "colab": {
          "base_uri": "https://localhost:8080/"
        },
        "id": "2ClMDkJsfNJZ",
        "outputId": "03392e3a-4ef6-487b-9ec6-f310c3c9ab31"
      },
      "execution_count": null,
      "outputs": [
        {
          "output_type": "stream",
          "name": "stdout",
          "text": [
            "tensor([[0.0000e+00, 0.0000e+00, 1.6201e-33],\n",
            "        [3.1435e-41, 2.1342e-35, 3.1435e-41],\n",
            "        [2.6395e+03, 4.4755e-41, 0.0000e+00],\n",
            "        [0.0000e+00, 0.0000e+00, 0.0000e+00],\n",
            "        [0.0000e+00, 0.0000e+00, 0.0000e+00]])\n",
            "tensor([[6.7775e-310, 4.7603e-310, 2.3549e+251],\n",
            "        [8.0334e-304, 2.2517e+289, 3.3939e-111],\n",
            "        [3.1536e+161, 3.9991e+252, 1.0376e+243],\n",
            "        [2.3529e+251, 6.0598e+233, 8.7642e+252],\n",
            "        [1.0376e+243, 3.5902e+246, 9.0011e+223]], dtype=torch.float64)\n",
            "torch.float64\n",
            "running to() function\n",
            "torch.int32\n"
          ]
        }
      ]
    },
    {
      "cell_type": "markdown",
      "source": [
        "#Mathematical Functions"
      ],
      "metadata": {
        "id": "iC4XCaNsgSYo"
      }
    },
    {
      "cell_type": "code",
      "source": [
        "##addition\n",
        "x=torch.rand(5,3)\n",
        "y=torch.rand(5,3)\n",
        "z=x+y\n",
        "print(z)\n",
        "\n",
        "z=torch.add(x,y)\n",
        "print(z)"
      ],
      "metadata": {
        "colab": {
          "base_uri": "https://localhost:8080/"
        },
        "id": "H5bUENa9gUtm",
        "outputId": "df8f1498-9c0a-435d-af60-9dece92a2503"
      },
      "execution_count": null,
      "outputs": [
        {
          "output_type": "stream",
          "name": "stdout",
          "text": [
            "tensor([[0.1793, 1.2940, 0.7964],\n",
            "        [0.9308, 1.7505, 0.7961],\n",
            "        [1.1895, 0.6781, 0.9057],\n",
            "        [1.2225, 1.3448, 0.6962],\n",
            "        [0.7624, 0.9863, 1.3405]])\n",
            "tensor([[0.1793, 1.2940, 0.7964],\n",
            "        [0.9308, 1.7505, 0.7961],\n",
            "        [1.1895, 0.6781, 0.9057],\n",
            "        [1.2225, 1.3448, 0.6962],\n",
            "        [0.7624, 0.9863, 1.3405]])\n"
          ]
        }
      ]
    },
    {
      "cell_type": "code",
      "source": [
        "##multiplication\n",
        "z=x*y\n",
        "print(z)\n",
        "\n",
        "z=torch.mul(x,y)\n",
        "print(z)"
      ],
      "metadata": {
        "colab": {
          "base_uri": "https://localhost:8080/"
        },
        "id": "WjdvOPzqgv-5",
        "outputId": "cd234f5c-e1c5-4f10-e8de-075a4e2adf48"
      },
      "execution_count": null,
      "outputs": [
        {
          "output_type": "stream",
          "name": "stdout",
          "text": [
            "tensor([[0.0077, 0.3997, 0.1020],\n",
            "        [0.1161, 0.7644, 0.0791],\n",
            "        [0.3092, 0.0950, 0.1126],\n",
            "        [0.3730, 0.4399, 0.0825],\n",
            "        [0.1187, 0.0155, 0.4468]])\n",
            "tensor([[0.0077, 0.3997, 0.1020],\n",
            "        [0.1161, 0.7644, 0.0791],\n",
            "        [0.3092, 0.0950, 0.1126],\n",
            "        [0.3730, 0.4399, 0.0825],\n",
            "        [0.1187, 0.0155, 0.4468]])\n"
          ]
        }
      ]
    },
    {
      "cell_type": "code",
      "source": [
        "##division\n",
        "z=x/y\n",
        "print(z)\n",
        "\n",
        "z=torch.div(x,y)\n",
        "print(z)\n",
        "\n",
        "##int division\n",
        "z=x//y\n",
        "print(z)"
      ],
      "metadata": {
        "colab": {
          "base_uri": "https://localhost:8080/"
        },
        "id": "wIzY8lSCg348",
        "outputId": "bcb82859-4802-4fb1-eb43-a04a4af31be6"
      },
      "execution_count": null,
      "outputs": [
        {
          "output_type": "stream",
          "name": "stdout",
          "text": [
            "tensor([[ 0.6745,  1.5408,  3.9683],\n",
            "        [ 0.1896,  0.9099,  5.8408],\n",
            "        [ 0.4763,  0.4117,  0.1966],\n",
            "        [ 0.9247,  1.3931,  3.5977],\n",
            "        [ 0.4002, 60.9287,  1.1594]])\n",
            "tensor([[ 0.6745,  1.5408,  3.9683],\n",
            "        [ 0.1896,  0.9099,  5.8408],\n",
            "        [ 0.4763,  0.4117,  0.1966],\n",
            "        [ 0.9247,  1.3931,  3.5977],\n",
            "        [ 0.4002, 60.9287,  1.1594]])\n"
          ]
        }
      ]
    },
    {
      "cell_type": "code",
      "source": [
        "##power\n",
        "z=x**2\n",
        "print(z)\n",
        "\n",
        "z=torch.mul(x,x)\n",
        "print(z)"
      ],
      "metadata": {
        "colab": {
          "base_uri": "https://localhost:8080/"
        },
        "id": "P0ElRnKEg-KS",
        "outputId": "f06a2c68-5d93-4a26-82df-7e43df63a025"
      },
      "execution_count": null,
      "outputs": [
        {
          "output_type": "stream",
          "name": "stdout",
          "text": [
            "tensor([[0.0052, 0.6158, 0.4046],\n",
            "        [0.0220, 0.6955, 0.4620],\n",
            "        [0.1473, 0.0391, 0.0221],\n",
            "        [0.3450, 0.6128, 0.2968],\n",
            "        [0.0475, 0.9417, 0.5180]])\n",
            "tensor([[0.0052, 0.6158, 0.4046],\n",
            "        [0.0220, 0.6955, 0.4620],\n",
            "        [0.1473, 0.0391, 0.0221],\n",
            "        [0.3450, 0.6128, 0.2968],\n",
            "        [0.0475, 0.9417, 0.5180]])\n"
          ]
        }
      ]
    },
    {
      "cell_type": "code",
      "source": [
        "x=torch.tensor([[1,3],[1,1]])\n",
        "print(x)\n",
        "y=torch.tensor([[1,1],[1,1]])\n",
        "print(y)\n",
        "\n",
        "#matrix multiplication\n",
        "z=torch.mm(x,y)\n",
        "print(z)"
      ],
      "metadata": {
        "colab": {
          "base_uri": "https://localhost:8080/"
        },
        "id": "ZytW_LF9h3tc",
        "outputId": "d9834c33-5464-4620-bee2-002a5a944ecc"
      },
      "execution_count": null,
      "outputs": [
        {
          "output_type": "stream",
          "name": "stdout",
          "text": [
            "tensor([[1, 3],\n",
            "        [1, 1]])\n",
            "tensor([[1, 1],\n",
            "        [1, 1]])\n",
            "tensor([[4, 4],\n",
            "        [2, 2]])\n"
          ]
        }
      ]
    },
    {
      "cell_type": "code",
      "source": [
        "##### REDUCTION OPERATIONS #######"
      ],
      "metadata": {
        "id": "btGKxkD8jb6p"
      },
      "execution_count": null,
      "outputs": []
    },
    {
      "cell_type": "code",
      "source": [
        "##sum\n",
        "x=torch.tensor([[1,3],[1,1]])\n",
        "print(x)\n",
        "\n",
        "z=torch.sum(x)\n",
        "print(z)\n",
        "\n",
        "#sum along col\n",
        "z=torch.sum(x,dim=0)\n",
        "print(z)\n",
        "\n",
        "#sum along row\n",
        "z=torch.sum(x,dim=1)\n",
        "print(z)"
      ],
      "metadata": {
        "colab": {
          "base_uri": "https://localhost:8080/"
        },
        "id": "KodmZB-4jh4-",
        "outputId": "2c02c1ad-4651-4c5c-bba7-b58f986e0185"
      },
      "execution_count": null,
      "outputs": [
        {
          "output_type": "stream",
          "name": "stdout",
          "text": [
            "tensor([[1, 3],\n",
            "        [1, 1]])\n",
            "tensor(6)\n",
            "tensor([2, 4])\n",
            "tensor([4, 2])\n"
          ]
        }
      ]
    },
    {
      "cell_type": "code",
      "source": [
        "#mean\n",
        "z=torch.mean(x.float())    #works only on float dtype\n",
        "print(z)\n",
        "\n",
        "#median\n",
        "z=torch.median(x)\n",
        "print(z)\n",
        "\n",
        "#min\n",
        "z=torch.min(x)\n",
        "print(z)\n",
        "\n",
        "#max\n",
        "z=torch.max(x)\n",
        "print(z)\n",
        "\n",
        "\n",
        "#argmax\n",
        "z=torch.argmax(x)\n",
        "print(z)\n",
        "\n",
        "#argmin\n",
        "z=torch.argmin(x)\n",
        "print(z)"
      ],
      "metadata": {
        "colab": {
          "base_uri": "https://localhost:8080/"
        },
        "id": "e3BC8kPtjqy5",
        "outputId": "e1034507-7f1e-4ccd-d661-8289ab27a017"
      },
      "execution_count": null,
      "outputs": [
        {
          "output_type": "stream",
          "name": "stdout",
          "text": [
            "tensor(1.5000)\n",
            "tensor(1)\n",
            "tensor(1)\n",
            "tensor(3)\n",
            "tensor(1)\n",
            "tensor(0)\n"
          ]
        }
      ]
    },
    {
      "cell_type": "code",
      "source": [
        "#std\n",
        "z=torch.std(x.float())\n",
        "print(z)\n",
        "\n",
        "#var\n",
        "z=torch.var(x.float())\n",
        "print(z)\n",
        "\n"
      ],
      "metadata": {
        "id": "xuWlwqWsj-y8"
      },
      "execution_count": null,
      "outputs": []
    },
    {
      "cell_type": "markdown",
      "source": [
        "#Matrix Operations"
      ],
      "metadata": {
        "id": "M1ftGsz3k4ML"
      }
    },
    {
      "cell_type": "code",
      "source": [
        "#mm\n",
        "x=torch.tensor([[1,3],[1,1]])\n",
        "print(x)\n",
        "y=torch.tensor([[1,1],[1,1]])\n",
        "print(y)\n",
        "\n",
        "z=torch.mm(x,y)\n",
        "print(z)"
      ],
      "metadata": {
        "colab": {
          "base_uri": "https://localhost:8080/"
        },
        "id": "MHFek0T5k6gD",
        "outputId": "e48144e9-7a17-477f-ada9-8c26d70490f3"
      },
      "execution_count": null,
      "outputs": [
        {
          "output_type": "stream",
          "name": "stdout",
          "text": [
            "tensor([[1, 3],\n",
            "        [1, 1]])\n",
            "tensor([[1, 1],\n",
            "        [1, 1]])\n",
            "tensor([[4, 4],\n",
            "        [2, 2]])\n"
          ]
        }
      ]
    },
    {
      "cell_type": "code",
      "source": [
        "#dot product\n",
        "z=torch.dot(x[0],y[0])\n",
        "print(z)"
      ],
      "metadata": {
        "colab": {
          "base_uri": "https://localhost:8080/"
        },
        "id": "o9Bm1T36k8OW",
        "outputId": "89683768-d52a-48bf-cd2e-de4e896be5f3"
      },
      "execution_count": null,
      "outputs": [
        {
          "output_type": "stream",
          "name": "stdout",
          "text": [
            "tensor(4)\n"
          ]
        }
      ]
    },
    {
      "cell_type": "code",
      "source": [
        "#transpose\n",
        "z=torch.t(x)\n",
        "print(z)"
      ],
      "metadata": {
        "colab": {
          "base_uri": "https://localhost:8080/"
        },
        "id": "3AWWZyrulPS9",
        "outputId": "7c85534e-6e32-48e2-cf7d-ab3030309312"
      },
      "execution_count": null,
      "outputs": [
        {
          "output_type": "stream",
          "name": "stdout",
          "text": [
            "tensor([[1, 1],\n",
            "        [3, 1]])\n"
          ]
        }
      ]
    },
    {
      "cell_type": "code",
      "source": [
        "#determinant\n",
        "z=torch.linalg.det(x.float())\n",
        "print(z)\n",
        "\n",
        "#inverse\n",
        "z=torch.linalg.inv(x.float())\n",
        "print(z)"
      ],
      "metadata": {
        "colab": {
          "base_uri": "https://localhost:8080/"
        },
        "id": "THpD-bfJllD8",
        "outputId": "50bbe123-a214-4361-c1c2-fe3ad47cc939"
      },
      "execution_count": null,
      "outputs": [
        {
          "output_type": "stream",
          "name": "stdout",
          "text": [
            "tensor(-2.0000)\n",
            "tensor([[-0.5000,  1.5000],\n",
            "        [ 0.5000, -0.5000]])\n"
          ]
        }
      ]
    },
    {
      "cell_type": "markdown",
      "source": [
        "#Transforms"
      ],
      "metadata": {
        "id": "fH8WnUYQmG-1"
      }
    },
    {
      "cell_type": "code",
      "source": [
        "#log\n",
        "x=torch.tensor([[1,3],[1,1]])\n",
        "print(x)\n",
        "\n",
        "z=torch.log(x)\n",
        "print(z)"
      ],
      "metadata": {
        "colab": {
          "base_uri": "https://localhost:8080/"
        },
        "id": "qvTg-MgamJCe",
        "outputId": "10dc1c6c-2415-4219-a875-11674670975a"
      },
      "execution_count": null,
      "outputs": [
        {
          "output_type": "stream",
          "name": "stdout",
          "text": [
            "tensor([[1, 3],\n",
            "        [1, 1]])\n",
            "tensor([[0.0000, 1.0986],\n",
            "        [0.0000, 0.0000]])\n"
          ]
        }
      ]
    },
    {
      "cell_type": "code",
      "source": [
        "#exp\n",
        "z=torch.exp(x.float())\n",
        "print(z)"
      ],
      "metadata": {
        "colab": {
          "base_uri": "https://localhost:8080/"
        },
        "id": "fDl36pezmLWN",
        "outputId": "5ac6eb56-146f-4884-d427-5867a75df4a1"
      },
      "execution_count": null,
      "outputs": [
        {
          "output_type": "stream",
          "name": "stdout",
          "text": [
            "tensor([[ 2.7183, 20.0855],\n",
            "        [ 2.7183,  2.7183]])\n"
          ]
        }
      ]
    },
    {
      "cell_type": "code",
      "source": [
        "#sqrt\n",
        "z=torch.sqrt(x.float())\n",
        "print(z)"
      ],
      "metadata": {
        "colab": {
          "base_uri": "https://localhost:8080/"
        },
        "id": "aG93elm7mP5v",
        "outputId": "ca949e32-f79f-4f4c-b558-532f2796114c"
      },
      "execution_count": null,
      "outputs": [
        {
          "output_type": "stream",
          "name": "stdout",
          "text": [
            "tensor([[1.0000, 1.7321],\n",
            "        [1.0000, 1.0000]])\n"
          ]
        }
      ]
    },
    {
      "cell_type": "code",
      "source": [
        "#sigmoid\n",
        "z=torch.sigmoid(x.float())\n",
        "print(z)"
      ],
      "metadata": {
        "colab": {
          "base_uri": "https://localhost:8080/"
        },
        "id": "QiXluvdamZHr",
        "outputId": "6dae62bf-1626-4d7b-93ad-0508f17ad2ba"
      },
      "execution_count": null,
      "outputs": [
        {
          "output_type": "stream",
          "name": "stdout",
          "text": [
            "tensor([[0.7311, 0.9526],\n",
            "        [0.7311, 0.7311]])\n"
          ]
        }
      ]
    },
    {
      "cell_type": "code",
      "source": [
        "#softmax\n",
        "z=torch.softmax(x.float(),dim=1)  # 1--> row\n",
        "print(z)                          # 0 --> col"
      ],
      "metadata": {
        "colab": {
          "base_uri": "https://localhost:8080/"
        },
        "id": "IQun4wGqmddj",
        "outputId": "f3eb2deb-1d35-4ff0-d2a7-55b325478cdd"
      },
      "execution_count": null,
      "outputs": [
        {
          "output_type": "stream",
          "name": "stdout",
          "text": [
            "tensor([[0.1192, 0.8808],\n",
            "        [0.5000, 0.5000]])\n"
          ]
        }
      ]
    },
    {
      "cell_type": "code",
      "source": [
        "#relu\n",
        "z=torch.relu(x.float())\n",
        "print(z)"
      ],
      "metadata": {
        "colab": {
          "base_uri": "https://localhost:8080/"
        },
        "id": "GVIrY0VimqdU",
        "outputId": "6bd43da3-0483-4e43-a500-1ba4e473b432"
      },
      "execution_count": null,
      "outputs": [
        {
          "output_type": "stream",
          "name": "stdout",
          "text": [
            "tensor([[1., 3.],\n",
            "        [1., 1.]])\n"
          ]
        }
      ]
    },
    {
      "cell_type": "markdown",
      "source": [
        "#Copying"
      ],
      "metadata": {
        "id": "_n0Vf_sXoe4d"
      }
    },
    {
      "cell_type": "code",
      "source": [
        "x=torch.tensor([[1,3],[1,1]])\n",
        "print(x)\n",
        "\n",
        "y=x\n",
        "\n",
        "print(f\"id of x:{id(x)}\")\n",
        "print(f\"id of y:{id(y)}\")"
      ],
      "metadata": {
        "colab": {
          "base_uri": "https://localhost:8080/"
        },
        "id": "QVTWCCp6nI1M",
        "outputId": "f70aa92c-c498-4bd2-a661-28bc4f30c86c"
      },
      "execution_count": null,
      "outputs": [
        {
          "output_type": "stream",
          "name": "stdout",
          "text": [
            "tensor([[1, 3],\n",
            "        [1, 1]])\n",
            "id of x:137173857198752\n",
            "id of y:137173857198752\n"
          ]
        }
      ]
    },
    {
      "cell_type": "code",
      "source": [
        "y=x.clone()\n",
        "\n",
        "print(f\"id of x:{id(x)}\")\n",
        "print(f\"id of y:{id(y)}\")"
      ],
      "metadata": {
        "colab": {
          "base_uri": "https://localhost:8080/"
        },
        "id": "gpF1sMmbopIx",
        "outputId": "2ee0e98f-f128-4291-cff2-a04ba767e0c5"
      },
      "execution_count": null,
      "outputs": [
        {
          "output_type": "stream",
          "name": "stdout",
          "text": [
            "id of x:137173857198752\n",
            "id of y:137173825172912\n"
          ]
        }
      ]
    },
    {
      "cell_type": "markdown",
      "source": [
        "#Operations on GPU"
      ],
      "metadata": {
        "id": "WzeZ-uNHpjEL"
      }
    },
    {
      "cell_type": "code",
      "source": [
        "#creating on gpu\n",
        "if torch.cuda.is_available():\n",
        "    device=torch.device(\"cuda\")\n",
        "else:\n",
        "    device=torch.device(\"cpu\")\n",
        "\n",
        "x=torch.ones(5,3,device=device)\n",
        "print(x)"
      ],
      "metadata": {
        "colab": {
          "base_uri": "https://localhost:8080/"
        },
        "id": "kdvHGTAToroB",
        "outputId": "922a9414-1227-4736-d100-c700b846f2ae"
      },
      "execution_count": null,
      "outputs": [
        {
          "output_type": "stream",
          "name": "stdout",
          "text": [
            "tensor([[1., 1., 1.],\n",
            "        [1., 1., 1.],\n",
            "        [1., 1., 1.],\n",
            "        [1., 1., 1.],\n",
            "        [1., 1., 1.]], device='cuda:0')\n"
          ]
        }
      ]
    },
    {
      "cell_type": "code",
      "source": [
        "#moving from cpu to gpu\n",
        "y=torch.ones(5,3)\n",
        "y=y.to(device)\n",
        "print(y)"
      ],
      "metadata": {
        "colab": {
          "base_uri": "https://localhost:8080/"
        },
        "id": "d6Xu_8Cgpxqn",
        "outputId": "ad116faf-b26f-4412-fe35-a9b6916fe663"
      },
      "execution_count": null,
      "outputs": [
        {
          "output_type": "stream",
          "name": "stdout",
          "text": [
            "tensor([[1., 1., 1.],\n",
            "        [1., 1., 1.],\n",
            "        [1., 1., 1.],\n",
            "        [1., 1., 1.],\n",
            "        [1., 1., 1.]], device='cuda:0')\n"
          ]
        }
      ]
    },
    {
      "cell_type": "markdown",
      "source": [
        "#Reshaping"
      ],
      "metadata": {
        "id": "x3wp-fKD-mBJ"
      }
    },
    {
      "cell_type": "code",
      "source": [
        "#reshape\n",
        "x=torch.rand(4,4)\n",
        "print(x)\n",
        "\n",
        "y=x.reshape(2,8)\n",
        "print(y)"
      ],
      "metadata": {
        "colab": {
          "base_uri": "https://localhost:8080/"
        },
        "id": "wLsX1r45-pcs",
        "outputId": "4a29ca25-3846-4474-c2bb-13c8dcf73b6e"
      },
      "execution_count": null,
      "outputs": [
        {
          "output_type": "stream",
          "name": "stdout",
          "text": [
            "tensor([[0.0755, 0.0979, 0.2923, 0.1993],\n",
            "        [0.6737, 0.5379, 0.5561, 0.2619],\n",
            "        [0.4284, 0.4210, 0.7908, 0.3104],\n",
            "        [0.8522, 0.1865, 0.2103, 0.4729]])\n",
            "tensor([[0.0755, 0.0979, 0.2923, 0.1993, 0.6737, 0.5379, 0.5561, 0.2619],\n",
            "        [0.4284, 0.4210, 0.7908, 0.3104, 0.8522, 0.1865, 0.2103, 0.4729]])\n"
          ]
        }
      ]
    },
    {
      "cell_type": "code",
      "source": [
        "#permute\n",
        "z=x.permute(1,0)\n",
        "print(z)"
      ],
      "metadata": {
        "colab": {
          "base_uri": "https://localhost:8080/"
        },
        "id": "ibMe1i1c-z7c",
        "outputId": "10afa1e4-4b5c-44c3-a1b0-25d0ca377a2e"
      },
      "execution_count": null,
      "outputs": [
        {
          "output_type": "stream",
          "name": "stdout",
          "text": [
            "tensor([[0.0755, 0.6737, 0.4284, 0.8522],\n",
            "        [0.0979, 0.5379, 0.4210, 0.1865],\n",
            "        [0.2923, 0.5561, 0.7908, 0.2103],\n",
            "        [0.1993, 0.2619, 0.3104, 0.4729]])\n"
          ]
        }
      ]
    },
    {
      "cell_type": "code",
      "source": [
        "#unsqueeze\n",
        "z=x.unsqueeze(0)\n",
        "print(z)\n",
        "print(z.shape)\n",
        "\n",
        "z=x.unsqueeze(1)\n",
        "print(z)\n",
        "print(z.shape)"
      ],
      "metadata": {
        "colab": {
          "base_uri": "https://localhost:8080/"
        },
        "id": "EF06Nn4C-2d6",
        "outputId": "1109552d-4f6a-4ab8-903d-b54f39a5af4c"
      },
      "execution_count": null,
      "outputs": [
        {
          "output_type": "stream",
          "name": "stdout",
          "text": [
            "tensor([[[0.0755, 0.0979, 0.2923, 0.1993],\n",
            "         [0.6737, 0.5379, 0.5561, 0.2619],\n",
            "         [0.4284, 0.4210, 0.7908, 0.3104],\n",
            "         [0.8522, 0.1865, 0.2103, 0.4729]]])\n",
            "torch.Size([1, 4, 4])\n",
            "tensor([[[0.0755, 0.0979, 0.2923, 0.1993]],\n",
            "\n",
            "        [[0.6737, 0.5379, 0.5561, 0.2619]],\n",
            "\n",
            "        [[0.4284, 0.4210, 0.7908, 0.3104]],\n",
            "\n",
            "        [[0.8522, 0.1865, 0.2103, 0.4729]]])\n",
            "torch.Size([4, 1, 4])\n"
          ]
        }
      ]
    },
    {
      "cell_type": "code",
      "source": [
        "#squeeze\n",
        "z=x.squeeze(0)\n",
        "print(z)\n",
        "print(z.shape)\n",
        "\n",
        "z=x.squeeze(1)\n",
        "print(z)\n",
        "print(z.shape)"
      ],
      "metadata": {
        "colab": {
          "base_uri": "https://localhost:8080/"
        },
        "id": "NnSzFJ8r_Evh",
        "outputId": "01beb3f0-ba36-462e-c313-6a468e80e33f"
      },
      "execution_count": null,
      "outputs": [
        {
          "output_type": "stream",
          "name": "stdout",
          "text": [
            "tensor([[0.0755, 0.0979, 0.2923, 0.1993],\n",
            "        [0.6737, 0.5379, 0.5561, 0.2619],\n",
            "        [0.4284, 0.4210, 0.7908, 0.3104],\n",
            "        [0.8522, 0.1865, 0.2103, 0.4729]])\n",
            "torch.Size([4, 4])\n",
            "tensor([[0.0755, 0.0979, 0.2923, 0.1993],\n",
            "        [0.6737, 0.5379, 0.5561, 0.2619],\n",
            "        [0.4284, 0.4210, 0.7908, 0.3104],\n",
            "        [0.8522, 0.1865, 0.2103, 0.4729]])\n",
            "torch.Size([4, 4])\n"
          ]
        }
      ]
    }
  ]
}