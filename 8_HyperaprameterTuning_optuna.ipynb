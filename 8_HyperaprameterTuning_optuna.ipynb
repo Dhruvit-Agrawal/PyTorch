{
  "nbformat": 4,
  "nbformat_minor": 0,
  "metadata": {
    "colab": {
      "provenance": [],
      "gpuType": "T4",
      "mount_file_id": "1rJLYPcSlwCgjD6V-0fjDADuZZznVTmOd",
      "authorship_tag": "ABX9TyPRpx6YANDofwlRr1U+PffU",
      "include_colab_link": true
    },
    "kernelspec": {
      "name": "python3",
      "display_name": "Python 3"
    },
    "language_info": {
      "name": "python"
    },
    "accelerator": "GPU"
  },
  "cells": [
    {
      "cell_type": "markdown",
      "metadata": {
        "id": "view-in-github",
        "colab_type": "text"
      },
      "source": [
        "<a href=\"https://colab.research.google.com/github/Dhruvit-Agrawal/PyTorch/blob/main/8_HyperaprameterTuning_optuna.ipynb\" target=\"_parent\"><img src=\"https://colab.research.google.com/assets/colab-badge.svg\" alt=\"Open In Colab\"/></a>"
      ]
    },
    {
      "cell_type": "code",
      "execution_count": null,
      "metadata": {
        "id": "o5QtFHomg4Xw"
      },
      "outputs": [],
      "source": []
    },
    {
      "cell_type": "code",
      "execution_count": 1,
      "metadata": {
        "id": "kkjQZ6XrBcIQ"
      },
      "outputs": [],
      "source": [
        "import pandas as pd\n",
        "import numpy as np\n",
        "import torch\n",
        "import torch.nn as nn\n",
        "import torch.optim as optim\n",
        "from torch.utils.data import Dataset, DataLoader\n",
        "from sklearn.model_selection import train_test_split\n",
        "from sklearn.preprocessing import StandardScaler\n",
        "import matplotlib.pyplot as plt\n"
      ]
    },
    {
      "cell_type": "code",
      "source": [
        "torch.manual_seed(42)"
      ],
      "metadata": {
        "colab": {
          "base_uri": "https://localhost:8080/"
        },
        "id": "cgbBcieCLR3l",
        "outputId": "8d4cadbf-d866-4701-f0d6-8a9a52ee4d6a"
      },
      "execution_count": 2,
      "outputs": [
        {
          "output_type": "execute_result",
          "data": {
            "text/plain": [
              "<torch._C.Generator at 0x78e906f841b0>"
            ]
          },
          "metadata": {},
          "execution_count": 2
        }
      ]
    },
    {
      "cell_type": "code",
      "source": [
        "device='cuda' if torch.cuda.is_available() else 'cpu'\n",
        "device"
      ],
      "metadata": {
        "colab": {
          "base_uri": "https://localhost:8080/",
          "height": 36
        },
        "id": "4KW2aYBGf_gx",
        "outputId": "dede546c-ab8e-499f-a081-4c1bca7152c1"
      },
      "execution_count": 3,
      "outputs": [
        {
          "output_type": "execute_result",
          "data": {
            "text/plain": [
              "'cuda'"
            ],
            "application/vnd.google.colaboratory.intrinsic+json": {
              "type": "string"
            }
          },
          "metadata": {},
          "execution_count": 3
        }
      ]
    },
    {
      "cell_type": "code",
      "source": [
        "df=pd.read_csv('/content/drive/MyDrive/PyTorch/Fashion MNIST/fmnist_small.csv')\n",
        "df.head()"
      ],
      "metadata": {
        "colab": {
          "base_uri": "https://localhost:8080/",
          "height": 255
        },
        "id": "Pp_C7NdZLYkf",
        "outputId": "6fed2de4-54aa-4086-ada5-6f2a40f7a4c9"
      },
      "execution_count": 5,
      "outputs": [
        {
          "output_type": "execute_result",
          "data": {
            "text/plain": [
              "   label  pixel1  pixel2  pixel3  pixel4  pixel5  pixel6  pixel7  pixel8  \\\n",
              "0      9       0       0       0       0       0       0       0       0   \n",
              "1      7       0       0       0       0       0       0       0       0   \n",
              "2      0       0       0       0       0       0       1       0       0   \n",
              "3      8       0       0       0       0       0       0       0       0   \n",
              "4      8       0       0       0       0       0       0       0       0   \n",
              "\n",
              "   pixel9  ...  pixel775  pixel776  pixel777  pixel778  pixel779  pixel780  \\\n",
              "0       0  ...         0         7         0        50       205       196   \n",
              "1       0  ...         0         0         0         0         0         0   \n",
              "2       0  ...       142       142       142        21         0         3   \n",
              "3       0  ...         0         0         0         0         0         0   \n",
              "4       0  ...       213       203       174       151       188        10   \n",
              "\n",
              "   pixel781  pixel782  pixel783  pixel784  \n",
              "0       213       165         0         0  \n",
              "1         0         0         0         0  \n",
              "2         0         0         0         0  \n",
              "3         0         0         0         0  \n",
              "4         0         0         0         0  \n",
              "\n",
              "[5 rows x 785 columns]"
            ],
            "text/html": [
              "\n",
              "  <div id=\"df-dd55fc72-3a93-408e-90bb-f38bfe4a13bf\" class=\"colab-df-container\">\n",
              "    <div>\n",
              "<style scoped>\n",
              "    .dataframe tbody tr th:only-of-type {\n",
              "        vertical-align: middle;\n",
              "    }\n",
              "\n",
              "    .dataframe tbody tr th {\n",
              "        vertical-align: top;\n",
              "    }\n",
              "\n",
              "    .dataframe thead th {\n",
              "        text-align: right;\n",
              "    }\n",
              "</style>\n",
              "<table border=\"1\" class=\"dataframe\">\n",
              "  <thead>\n",
              "    <tr style=\"text-align: right;\">\n",
              "      <th></th>\n",
              "      <th>label</th>\n",
              "      <th>pixel1</th>\n",
              "      <th>pixel2</th>\n",
              "      <th>pixel3</th>\n",
              "      <th>pixel4</th>\n",
              "      <th>pixel5</th>\n",
              "      <th>pixel6</th>\n",
              "      <th>pixel7</th>\n",
              "      <th>pixel8</th>\n",
              "      <th>pixel9</th>\n",
              "      <th>...</th>\n",
              "      <th>pixel775</th>\n",
              "      <th>pixel776</th>\n",
              "      <th>pixel777</th>\n",
              "      <th>pixel778</th>\n",
              "      <th>pixel779</th>\n",
              "      <th>pixel780</th>\n",
              "      <th>pixel781</th>\n",
              "      <th>pixel782</th>\n",
              "      <th>pixel783</th>\n",
              "      <th>pixel784</th>\n",
              "    </tr>\n",
              "  </thead>\n",
              "  <tbody>\n",
              "    <tr>\n",
              "      <th>0</th>\n",
              "      <td>9</td>\n",
              "      <td>0</td>\n",
              "      <td>0</td>\n",
              "      <td>0</td>\n",
              "      <td>0</td>\n",
              "      <td>0</td>\n",
              "      <td>0</td>\n",
              "      <td>0</td>\n",
              "      <td>0</td>\n",
              "      <td>0</td>\n",
              "      <td>...</td>\n",
              "      <td>0</td>\n",
              "      <td>7</td>\n",
              "      <td>0</td>\n",
              "      <td>50</td>\n",
              "      <td>205</td>\n",
              "      <td>196</td>\n",
              "      <td>213</td>\n",
              "      <td>165</td>\n",
              "      <td>0</td>\n",
              "      <td>0</td>\n",
              "    </tr>\n",
              "    <tr>\n",
              "      <th>1</th>\n",
              "      <td>7</td>\n",
              "      <td>0</td>\n",
              "      <td>0</td>\n",
              "      <td>0</td>\n",
              "      <td>0</td>\n",
              "      <td>0</td>\n",
              "      <td>0</td>\n",
              "      <td>0</td>\n",
              "      <td>0</td>\n",
              "      <td>0</td>\n",
              "      <td>...</td>\n",
              "      <td>0</td>\n",
              "      <td>0</td>\n",
              "      <td>0</td>\n",
              "      <td>0</td>\n",
              "      <td>0</td>\n",
              "      <td>0</td>\n",
              "      <td>0</td>\n",
              "      <td>0</td>\n",
              "      <td>0</td>\n",
              "      <td>0</td>\n",
              "    </tr>\n",
              "    <tr>\n",
              "      <th>2</th>\n",
              "      <td>0</td>\n",
              "      <td>0</td>\n",
              "      <td>0</td>\n",
              "      <td>0</td>\n",
              "      <td>0</td>\n",
              "      <td>0</td>\n",
              "      <td>1</td>\n",
              "      <td>0</td>\n",
              "      <td>0</td>\n",
              "      <td>0</td>\n",
              "      <td>...</td>\n",
              "      <td>142</td>\n",
              "      <td>142</td>\n",
              "      <td>142</td>\n",
              "      <td>21</td>\n",
              "      <td>0</td>\n",
              "      <td>3</td>\n",
              "      <td>0</td>\n",
              "      <td>0</td>\n",
              "      <td>0</td>\n",
              "      <td>0</td>\n",
              "    </tr>\n",
              "    <tr>\n",
              "      <th>3</th>\n",
              "      <td>8</td>\n",
              "      <td>0</td>\n",
              "      <td>0</td>\n",
              "      <td>0</td>\n",
              "      <td>0</td>\n",
              "      <td>0</td>\n",
              "      <td>0</td>\n",
              "      <td>0</td>\n",
              "      <td>0</td>\n",
              "      <td>0</td>\n",
              "      <td>...</td>\n",
              "      <td>0</td>\n",
              "      <td>0</td>\n",
              "      <td>0</td>\n",
              "      <td>0</td>\n",
              "      <td>0</td>\n",
              "      <td>0</td>\n",
              "      <td>0</td>\n",
              "      <td>0</td>\n",
              "      <td>0</td>\n",
              "      <td>0</td>\n",
              "    </tr>\n",
              "    <tr>\n",
              "      <th>4</th>\n",
              "      <td>8</td>\n",
              "      <td>0</td>\n",
              "      <td>0</td>\n",
              "      <td>0</td>\n",
              "      <td>0</td>\n",
              "      <td>0</td>\n",
              "      <td>0</td>\n",
              "      <td>0</td>\n",
              "      <td>0</td>\n",
              "      <td>0</td>\n",
              "      <td>...</td>\n",
              "      <td>213</td>\n",
              "      <td>203</td>\n",
              "      <td>174</td>\n",
              "      <td>151</td>\n",
              "      <td>188</td>\n",
              "      <td>10</td>\n",
              "      <td>0</td>\n",
              "      <td>0</td>\n",
              "      <td>0</td>\n",
              "      <td>0</td>\n",
              "    </tr>\n",
              "  </tbody>\n",
              "</table>\n",
              "<p>5 rows × 785 columns</p>\n",
              "</div>\n",
              "    <div class=\"colab-df-buttons\">\n",
              "\n",
              "  <div class=\"colab-df-container\">\n",
              "    <button class=\"colab-df-convert\" onclick=\"convertToInteractive('df-dd55fc72-3a93-408e-90bb-f38bfe4a13bf')\"\n",
              "            title=\"Convert this dataframe to an interactive table.\"\n",
              "            style=\"display:none;\">\n",
              "\n",
              "  <svg xmlns=\"http://www.w3.org/2000/svg\" height=\"24px\" viewBox=\"0 -960 960 960\">\n",
              "    <path d=\"M120-120v-720h720v720H120Zm60-500h600v-160H180v160Zm220 220h160v-160H400v160Zm0 220h160v-160H400v160ZM180-400h160v-160H180v160Zm440 0h160v-160H620v160ZM180-180h160v-160H180v160Zm440 0h160v-160H620v160Z\"/>\n",
              "  </svg>\n",
              "    </button>\n",
              "\n",
              "  <style>\n",
              "    .colab-df-container {\n",
              "      display:flex;\n",
              "      gap: 12px;\n",
              "    }\n",
              "\n",
              "    .colab-df-convert {\n",
              "      background-color: #E8F0FE;\n",
              "      border: none;\n",
              "      border-radius: 50%;\n",
              "      cursor: pointer;\n",
              "      display: none;\n",
              "      fill: #1967D2;\n",
              "      height: 32px;\n",
              "      padding: 0 0 0 0;\n",
              "      width: 32px;\n",
              "    }\n",
              "\n",
              "    .colab-df-convert:hover {\n",
              "      background-color: #E2EBFA;\n",
              "      box-shadow: 0px 1px 2px rgba(60, 64, 67, 0.3), 0px 1px 3px 1px rgba(60, 64, 67, 0.15);\n",
              "      fill: #174EA6;\n",
              "    }\n",
              "\n",
              "    .colab-df-buttons div {\n",
              "      margin-bottom: 4px;\n",
              "    }\n",
              "\n",
              "    [theme=dark] .colab-df-convert {\n",
              "      background-color: #3B4455;\n",
              "      fill: #D2E3FC;\n",
              "    }\n",
              "\n",
              "    [theme=dark] .colab-df-convert:hover {\n",
              "      background-color: #434B5C;\n",
              "      box-shadow: 0px 1px 3px 1px rgba(0, 0, 0, 0.15);\n",
              "      filter: drop-shadow(0px 1px 2px rgba(0, 0, 0, 0.3));\n",
              "      fill: #FFFFFF;\n",
              "    }\n",
              "  </style>\n",
              "\n",
              "    <script>\n",
              "      const buttonEl =\n",
              "        document.querySelector('#df-dd55fc72-3a93-408e-90bb-f38bfe4a13bf button.colab-df-convert');\n",
              "      buttonEl.style.display =\n",
              "        google.colab.kernel.accessAllowed ? 'block' : 'none';\n",
              "\n",
              "      async function convertToInteractive(key) {\n",
              "        const element = document.querySelector('#df-dd55fc72-3a93-408e-90bb-f38bfe4a13bf');\n",
              "        const dataTable =\n",
              "          await google.colab.kernel.invokeFunction('convertToInteractive',\n",
              "                                                    [key], {});\n",
              "        if (!dataTable) return;\n",
              "\n",
              "        const docLinkHtml = 'Like what you see? Visit the ' +\n",
              "          '<a target=\"_blank\" href=https://colab.research.google.com/notebooks/data_table.ipynb>data table notebook</a>'\n",
              "          + ' to learn more about interactive tables.';\n",
              "        element.innerHTML = '';\n",
              "        dataTable['output_type'] = 'display_data';\n",
              "        await google.colab.output.renderOutput(dataTable, element);\n",
              "        const docLink = document.createElement('div');\n",
              "        docLink.innerHTML = docLinkHtml;\n",
              "        element.appendChild(docLink);\n",
              "      }\n",
              "    </script>\n",
              "  </div>\n",
              "\n",
              "\n",
              "<div id=\"df-85cb7f88-f68e-48ab-bf3d-902d58f03223\">\n",
              "  <button class=\"colab-df-quickchart\" onclick=\"quickchart('df-85cb7f88-f68e-48ab-bf3d-902d58f03223')\"\n",
              "            title=\"Suggest charts\"\n",
              "            style=\"display:none;\">\n",
              "\n",
              "<svg xmlns=\"http://www.w3.org/2000/svg\" height=\"24px\"viewBox=\"0 0 24 24\"\n",
              "     width=\"24px\">\n",
              "    <g>\n",
              "        <path d=\"M19 3H5c-1.1 0-2 .9-2 2v14c0 1.1.9 2 2 2h14c1.1 0 2-.9 2-2V5c0-1.1-.9-2-2-2zM9 17H7v-7h2v7zm4 0h-2V7h2v10zm4 0h-2v-4h2v4z\"/>\n",
              "    </g>\n",
              "</svg>\n",
              "  </button>\n",
              "\n",
              "<style>\n",
              "  .colab-df-quickchart {\n",
              "      --bg-color: #E8F0FE;\n",
              "      --fill-color: #1967D2;\n",
              "      --hover-bg-color: #E2EBFA;\n",
              "      --hover-fill-color: #174EA6;\n",
              "      --disabled-fill-color: #AAA;\n",
              "      --disabled-bg-color: #DDD;\n",
              "  }\n",
              "\n",
              "  [theme=dark] .colab-df-quickchart {\n",
              "      --bg-color: #3B4455;\n",
              "      --fill-color: #D2E3FC;\n",
              "      --hover-bg-color: #434B5C;\n",
              "      --hover-fill-color: #FFFFFF;\n",
              "      --disabled-bg-color: #3B4455;\n",
              "      --disabled-fill-color: #666;\n",
              "  }\n",
              "\n",
              "  .colab-df-quickchart {\n",
              "    background-color: var(--bg-color);\n",
              "    border: none;\n",
              "    border-radius: 50%;\n",
              "    cursor: pointer;\n",
              "    display: none;\n",
              "    fill: var(--fill-color);\n",
              "    height: 32px;\n",
              "    padding: 0;\n",
              "    width: 32px;\n",
              "  }\n",
              "\n",
              "  .colab-df-quickchart:hover {\n",
              "    background-color: var(--hover-bg-color);\n",
              "    box-shadow: 0 1px 2px rgba(60, 64, 67, 0.3), 0 1px 3px 1px rgba(60, 64, 67, 0.15);\n",
              "    fill: var(--button-hover-fill-color);\n",
              "  }\n",
              "\n",
              "  .colab-df-quickchart-complete:disabled,\n",
              "  .colab-df-quickchart-complete:disabled:hover {\n",
              "    background-color: var(--disabled-bg-color);\n",
              "    fill: var(--disabled-fill-color);\n",
              "    box-shadow: none;\n",
              "  }\n",
              "\n",
              "  .colab-df-spinner {\n",
              "    border: 2px solid var(--fill-color);\n",
              "    border-color: transparent;\n",
              "    border-bottom-color: var(--fill-color);\n",
              "    animation:\n",
              "      spin 1s steps(1) infinite;\n",
              "  }\n",
              "\n",
              "  @keyframes spin {\n",
              "    0% {\n",
              "      border-color: transparent;\n",
              "      border-bottom-color: var(--fill-color);\n",
              "      border-left-color: var(--fill-color);\n",
              "    }\n",
              "    20% {\n",
              "      border-color: transparent;\n",
              "      border-left-color: var(--fill-color);\n",
              "      border-top-color: var(--fill-color);\n",
              "    }\n",
              "    30% {\n",
              "      border-color: transparent;\n",
              "      border-left-color: var(--fill-color);\n",
              "      border-top-color: var(--fill-color);\n",
              "      border-right-color: var(--fill-color);\n",
              "    }\n",
              "    40% {\n",
              "      border-color: transparent;\n",
              "      border-right-color: var(--fill-color);\n",
              "      border-top-color: var(--fill-color);\n",
              "    }\n",
              "    60% {\n",
              "      border-color: transparent;\n",
              "      border-right-color: var(--fill-color);\n",
              "    }\n",
              "    80% {\n",
              "      border-color: transparent;\n",
              "      border-right-color: var(--fill-color);\n",
              "      border-bottom-color: var(--fill-color);\n",
              "    }\n",
              "    90% {\n",
              "      border-color: transparent;\n",
              "      border-bottom-color: var(--fill-color);\n",
              "    }\n",
              "  }\n",
              "</style>\n",
              "\n",
              "  <script>\n",
              "    async function quickchart(key) {\n",
              "      const quickchartButtonEl =\n",
              "        document.querySelector('#' + key + ' button');\n",
              "      quickchartButtonEl.disabled = true;  // To prevent multiple clicks.\n",
              "      quickchartButtonEl.classList.add('colab-df-spinner');\n",
              "      try {\n",
              "        const charts = await google.colab.kernel.invokeFunction(\n",
              "            'suggestCharts', [key], {});\n",
              "      } catch (error) {\n",
              "        console.error('Error during call to suggestCharts:', error);\n",
              "      }\n",
              "      quickchartButtonEl.classList.remove('colab-df-spinner');\n",
              "      quickchartButtonEl.classList.add('colab-df-quickchart-complete');\n",
              "    }\n",
              "    (() => {\n",
              "      let quickchartButtonEl =\n",
              "        document.querySelector('#df-85cb7f88-f68e-48ab-bf3d-902d58f03223 button');\n",
              "      quickchartButtonEl.style.display =\n",
              "        google.colab.kernel.accessAllowed ? 'block' : 'none';\n",
              "    })();\n",
              "  </script>\n",
              "</div>\n",
              "\n",
              "    </div>\n",
              "  </div>\n"
            ],
            "application/vnd.google.colaboratory.intrinsic+json": {
              "type": "dataframe",
              "variable_name": "df"
            }
          },
          "metadata": {},
          "execution_count": 5
        }
      ]
    },
    {
      "cell_type": "code",
      "source": [
        "#train test split\n",
        "x=df.drop('label',axis=1)\n",
        "y=df['label']\n",
        "x_train,x_test,y_train,y_test=train_test_split(x,y, test_size=0.2)"
      ],
      "metadata": {
        "id": "zUCAvXVFLnmt"
      },
      "execution_count": 6,
      "outputs": []
    },
    {
      "cell_type": "code",
      "source": [
        "#scaling\n",
        "scaler=StandardScaler()\n",
        "x_train=scaler.fit_transform(x_train)\n",
        "x_test=scaler.transform(x_test)"
      ],
      "metadata": {
        "id": "Zk72bxXHPmRY"
      },
      "execution_count": 7,
      "outputs": []
    },
    {
      "cell_type": "code",
      "source": [
        "#custom dataset and dataLoader classes\n",
        "from torch.utils.data import Dataset, DataLoader"
      ],
      "metadata": {
        "id": "Cq-BD5jmQB3T"
      },
      "execution_count": 8,
      "outputs": []
    },
    {
      "cell_type": "code",
      "source": [
        "#custom dataset\n",
        "class FashionDataset(Dataset):\n",
        "  def __init__(self,x,y):\n",
        "    self.x=torch.tensor(x,dtype=torch.float32)   # features in float\n",
        "    self.y=torch.tensor(y.values,dtype=torch.long)      # labels in 'long'\n",
        "\n",
        "  def __len__(self):\n",
        "    return len(self.x)\n",
        "\n",
        "  def __getitem__(self,idx):\n",
        "    return self.x[idx], self.y[idx]"
      ],
      "metadata": {
        "id": "Xy8fiHlRQW20"
      },
      "execution_count": 14,
      "outputs": []
    },
    {
      "cell_type": "code",
      "source": [
        "#creating datasets\n",
        "train_dataset=FashionDataset(x_train,y_train)\n",
        "test_dataset=FashionDataset(x_test,y_test)"
      ],
      "metadata": {
        "id": "QDlBtdyoRLwD"
      },
      "execution_count": 16,
      "outputs": []
    },
    {
      "cell_type": "code",
      "source": [
        "#creating data loaders\n",
        "train_loader=DataLoader(train_dataset,batch_size=32,shuffle=True, pin_memory=True)\n",
        "test_loader=DataLoader(test_dataset,batch_size=32,shuffle=False, pin_memory=True)"
      ],
      "metadata": {
        "id": "kkN2F1nbTlUm"
      },
      "execution_count": 17,
      "outputs": []
    },
    {
      "cell_type": "code",
      "source": [
        "class MyNNModel(nn.Module):\n",
        "  def __init__(self,input_dim ,output_dim, num_hidden_layer,num_neurons_per_layer):\n",
        "\n",
        "    super().__init__()\n",
        "    layer=[]\n",
        "\n",
        "    for i in range(num_hidden_layer):\n",
        "      #layer\n",
        "      if i==0:\n",
        "        layer.append(nn.Linear(input_dim,num_neurons_per_layer))\n",
        "      else:\n",
        "        layer.append(nn.Linear(num_neurons_per_layer,num_neurons_per_layer))\n",
        "\n",
        "      #batch normalisation\n",
        "      layer.append(nn.BatchNorm1d(num_neurons_per_layer))\n",
        "      #activation function\n",
        "      layer.append(nn.ReLU())\n",
        "      #dropouts\n",
        "      layer.append(nn.Dropout(0.2))\n",
        "\n",
        "    #output layer\n",
        "    layer.append(nn.Linear(num_neurons_per_layer,output_dim))\n",
        "    layer.append(nn.LogSoftmax(dim=1))\n",
        "\n",
        "    #model\n",
        "    self.network=nn.Sequential(*layer)  # \" * \" used to unpack the layer list\n",
        "\n",
        "  def forward(self,x):\n",
        "\n",
        "    return self.network(x)\n"
      ],
      "metadata": {
        "id": "G9hIrrCKkMVN"
      },
      "execution_count": 28,
      "outputs": []
    },
    {
      "cell_type": "code",
      "source": [
        "x_train.shape[1]"
      ],
      "metadata": {
        "colab": {
          "base_uri": "https://localhost:8080/"
        },
        "id": "K5nP1h5DpQ3J",
        "outputId": "afc42291-673f-4d81-c1f4-3f2e9d4bd024"
      },
      "execution_count": 18,
      "outputs": [
        {
          "output_type": "execute_result",
          "data": {
            "text/plain": [
              "784"
            ]
          },
          "metadata": {},
          "execution_count": 18
        }
      ]
    },
    {
      "cell_type": "code",
      "source": [
        "#oblective function\n",
        "def objective(trial):\n",
        "\n",
        "  #extract parameter values\n",
        "  num_hidden_layer=trial.suggest_int(\"num_hidden_layer\",1,5)  #range-->1,5\n",
        "  num_neurons_per_layer=trial.suggest_categorical(\"num_neurons_per_layer\",[8,16,32,64,72,128])\n",
        "  epoch=trial.suggest_int(\"epochs\", 75,100,step=5)\n",
        "  learning_rate=trial.suggest_float(\"learning_rate\", 0.001,0.1,log=True)\n",
        "  batch_size=trial.suggest_categorical(\"batch_size\",[32,64])\n",
        "  weight_decay=trial.suggest_float(\"weight_decay\", 0.00001,0.001,log=True)\n",
        "  optimizer_name=trial.suggest_categorical(\"optimizer\",[\"adam\",\"sgd\"])\n",
        "\n",
        "  #dataset dataloader\n",
        "  train_loader=DataLoader(train_dataset,batch_size=batch_size,shuffle=True, pin_memory=True)\n",
        "  test_loader=DataLoader(test_dataset,batch_size=batch_size,shuffle=False, pin_memory=True)\n",
        "\n",
        "\n",
        "  #model init\n",
        "  input_size=x_train.shape[1]\n",
        "  output_size=10\n",
        "  model=MyNNModel(input_size ,output_size, num_hidden_layer,num_neurons_per_layer)\n",
        "  model.to(device)   # shifted to gpu\n",
        "\n",
        "  #loss function\n",
        "  loss_fn=nn.CrossEntropyLoss()\n",
        "\n",
        "  #optimiser selection\n",
        "\n",
        "   # Instantiate the optimizer based on the optimizer_name\n",
        "  if optimizer_name == \"adam\":\n",
        "      optimizer = optim.Adam(model.parameters(), lr=learning_rate, weight_decay=weight_decay)\n",
        "  else:  # optimizer_name == \"sgd\"\n",
        "      optimizer = optim.SGD(model.parameters(), lr=learning_rate,, weight_decay=weight_decay)\n",
        "\n",
        "\n",
        "  #training loop\n",
        "  for e in range(epochs):\n",
        "    for batch_x,batch_y in train_loader:\n",
        "\n",
        "      #moving to gpu\n",
        "      batch_x=batch_x.to(device)\n",
        "      batch_y=batch_y.to(device)\n",
        "\n",
        "      #forward pass\n",
        "      y_hat=model(batch_x)\n",
        "\n",
        "      #zeroing gradients\n",
        "      optimizer.zero_grad()\n",
        "\n",
        "      #loss\n",
        "      loss=loss_fn(y_hat,batch_y)\n",
        "\n",
        "      #backward pass\n",
        "      loss.backward()\n",
        "\n",
        "      #update weights\n",
        "      optimizer.step()\n",
        "\n",
        "\n",
        "\n",
        "  #evaluation\n",
        "  model.eval()\n",
        "\n",
        "  with torch.no_grad():\n",
        "    accuracy=[]\n",
        "\n",
        "    for batch_x,batch_y in test_loader:\n",
        "\n",
        "      #moving to gpu\n",
        "      batch_x=batch_x.to(device)\n",
        "      batch_y=batch_y.to(device)\n",
        "\n",
        "      #prediction\n",
        "      y_pred_pvalues=model(batch_x)\n",
        "      y_pred=torch.argmax(y_pred_pvalues,dim=1)\n",
        "\n",
        "      #accuracy\n",
        "      batch_accuracy= (y_pred==batch_y).float().mean()\n",
        "      accuracy.append(batch_accuracy.item())\n",
        "\n",
        "    avg_accuracy= np.mean(accuracy)\n",
        "\n",
        "  #return accuracy\n",
        "  return avg_accuracy"
      ],
      "metadata": {
        "id": "FD3kdUJbjM7M"
      },
      "execution_count": 33,
      "outputs": []
    },
    {
      "cell_type": "code",
      "source": [
        "%%capture\n",
        "!pip install optuna"
      ],
      "metadata": {
        "id": "Q9O3Zl3WrtZt"
      },
      "execution_count": 21,
      "outputs": []
    },
    {
      "cell_type": "code",
      "source": [
        "import optuna\n",
        "\n",
        "#creating study\n",
        "study=optuna.create_study(direction=\"maximize\", study_name=\"Tuning MyNNModel\")    #since trial object is returning \"Accuracy\"\n",
        "                                                  # if \"loss\" then use \"minimise\"\n"
      ],
      "metadata": {
        "colab": {
          "base_uri": "https://localhost:8080/"
        },
        "id": "xg-MAgBhsMd-",
        "outputId": "2ac5c9fa-2f13-4e7c-8ec1-1ab7c852b467"
      },
      "execution_count": 22,
      "outputs": [
        {
          "output_type": "stream",
          "name": "stderr",
          "text": [
            "[I 2025-01-25 09:03:49,136] A new study created in memory with name: Tuning MyNNModel\n"
          ]
        }
      ]
    },
    {
      "cell_type": "code",
      "source": [
        "#optimization\n",
        "study.optimize(objective,n_trials=10)"
      ],
      "metadata": {
        "colab": {
          "base_uri": "https://localhost:8080/"
        },
        "id": "S2cw2L78tBQF",
        "outputId": "fea20601-6e83-43cc-efc0-cd2f144cbf93"
      },
      "execution_count": 34,
      "outputs": [
        {
          "output_type": "stream",
          "name": "stderr",
          "text": [
            "[I 2025-01-25 09:14:03,813] Trial 5 finished with value: 0.8264802631578947 and parameters: {'num_hidden_layer': 4, 'num_neurons_per_layer': 32, 'optimizer': 'adam'}. Best is trial 5 with value: 0.8264802631578947.\n",
            "[I 2025-01-25 09:14:56,099] Trial 6 finished with value: 0.6455592105263158 and parameters: {'num_hidden_layer': 4, 'num_neurons_per_layer': 8, 'optimizer': 'sgd'}. Best is trial 5 with value: 0.8264802631578947.\n",
            "[I 2025-01-25 09:15:49,996] Trial 7 finished with value: 0.8289473684210527 and parameters: {'num_hidden_layer': 3, 'num_neurons_per_layer': 72, 'optimizer': 'adam'}. Best is trial 7 with value: 0.8289473684210527.\n",
            "[I 2025-01-25 09:16:44,158] Trial 8 finished with value: 0.8388157894736842 and parameters: {'num_hidden_layer': 3, 'num_neurons_per_layer': 128, 'optimizer': 'adam'}. Best is trial 8 with value: 0.8388157894736842.\n",
            "[I 2025-01-25 09:17:45,668] Trial 9 finished with value: 0.8256578947368421 and parameters: {'num_hidden_layer': 5, 'num_neurons_per_layer': 128, 'optimizer': 'sgd'}. Best is trial 8 with value: 0.8388157894736842.\n",
            "[I 2025-01-25 09:18:38,562] Trial 10 finished with value: 0.8429276315789473 and parameters: {'num_hidden_layer': 4, 'num_neurons_per_layer': 128, 'optimizer': 'sgd'}. Best is trial 10 with value: 0.8429276315789473.\n",
            "[I 2025-01-25 09:19:32,246] Trial 11 finished with value: 0.8067434210526315 and parameters: {'num_hidden_layer': 3, 'num_neurons_per_layer': 16, 'optimizer': 'adam'}. Best is trial 10 with value: 0.8429276315789473.\n",
            "[I 2025-01-25 09:20:18,278] Trial 12 finished with value: 0.8363486842105263 and parameters: {'num_hidden_layer': 2, 'num_neurons_per_layer': 64, 'optimizer': 'adam'}. Best is trial 10 with value: 0.8429276315789473.\n",
            "[I 2025-01-25 09:21:19,378] Trial 13 finished with value: 0.6949013157894737 and parameters: {'num_hidden_layer': 4, 'num_neurons_per_layer': 8, 'optimizer': 'adam'}. Best is trial 10 with value: 0.8429276315789473.\n",
            "[I 2025-01-25 09:22:07,553] Trial 14 finished with value: 0.837171052631579 and parameters: {'num_hidden_layer': 3, 'num_neurons_per_layer': 128, 'optimizer': 'sgd'}. Best is trial 10 with value: 0.8429276315789473.\n"
          ]
        }
      ]
    },
    {
      "cell_type": "code",
      "source": [
        "study.best_params()"
      ],
      "metadata": {
        "colab": {
          "base_uri": "https://localhost:8080/",
          "height": 141
        },
        "id": "IWPoE57WYHBi",
        "outputId": "1570f48a-a5ae-4ca3-c7ad-5becaa2d772d"
      },
      "execution_count": 1,
      "outputs": [
        {
          "output_type": "error",
          "ename": "NameError",
          "evalue": "name 'study' is not defined",
          "traceback": [
            "\u001b[0;31m---------------------------------------------------------------------------\u001b[0m",
            "\u001b[0;31mNameError\u001b[0m                                 Traceback (most recent call last)",
            "\u001b[0;32m<ipython-input-1-6e457e421207>\u001b[0m in \u001b[0;36m<cell line: 0>\u001b[0;34m()\u001b[0m\n\u001b[0;32m----> 1\u001b[0;31m \u001b[0mstudy\u001b[0m\u001b[0;34m.\u001b[0m\u001b[0mbest_params\u001b[0m\u001b[0;34m(\u001b[0m\u001b[0;34m)\u001b[0m\u001b[0;34m\u001b[0m\u001b[0;34m\u001b[0m\u001b[0m\n\u001b[0m",
            "\u001b[0;31mNameError\u001b[0m: name 'study' is not defined"
          ]
        }
      ]
    },
    {
      "cell_type": "code",
      "source": [
        "study.best_value()"
      ],
      "metadata": {
        "id": "IkDMrgWEYL5o"
      },
      "execution_count": null,
      "outputs": []
    }
  ]
}